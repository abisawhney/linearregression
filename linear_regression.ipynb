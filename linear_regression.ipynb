{
  "nbformat": 4,
  "nbformat_minor": 0,
  "metadata": {
    "colab": {
      "name": "linear-regression.ipynb",
      "provenance": []
    },
    "kernelspec": {
      "name": "python3",
      "display_name": "Python 3"
    }
  },
  "cells": [
    {
      "cell_type": "code",
      "metadata": {
        "id": "vtE4TnduUfM9",
        "colab_type": "code",
        "colab": {
          "base_uri": "https://localhost:8080/",
          "height": 34
        },
        "outputId": "c7a70154-b5ff-440c-9592-57074f1af946"
      },
      "source": [
        "print(\"hello\")"
      ],
      "execution_count": null,
      "outputs": [
        {
          "output_type": "stream",
          "text": [
            "hello\n"
          ],
          "name": "stdout"
        }
      ]
    },
    {
      "cell_type": "markdown",
      "metadata": {
        "id": "i1TdomT1U8v9",
        "colab_type": "text"
      },
      "source": [
        "Hello\n"
      ]
    },
    {
      "cell_type": "code",
      "metadata": {
        "id": "1ECLxnOdVASz",
        "colab_type": "code",
        "colab": {}
      },
      "source": [
        "import numpy as np\n",
        "x_values = np.array([2,4,4,3,6,9,7,3,7,1])\n",
        "y_values = np.array ([6,3,5,0,1,3,6,2,5,3])\n",
        "\n",
        "def best_fit_line(x_values,y_values):\n",
        "  m = ((x_values.mean() * y_values.mean() - (x_values * y_values).mean()) /\n",
        "     (x_values.mean() ** 2 - (x_values ** 2).mean()) )\n",
        "  \n",
        "  b = y_values.mean() - m * x_values.mean()\n",
        "\n",
        "  return m, b\n"
      ],
      "execution_count": null,
      "outputs": []
    },
    {
      "cell_type": "code",
      "metadata": {
        "id": "0NWww2GhXqXZ",
        "colab_type": "code",
        "colab": {
          "base_uri": "https://localhost:8080/",
          "height": 34
        },
        "outputId": "16141a94-67ee-4d9d-82f3-64d6bd9befb8"
      },
      "source": [
        "m, b = best_fit_line(x_values, y_values)\n"
      ],
      "execution_count": null,
      "outputs": [
        {
          "output_type": "stream",
          "text": [
            "0.11301369863013724 2.880136986301369\n"
          ],
          "name": "stdout"
        }
      ]
    },
    {
      "cell_type": "code",
      "metadata": {
        "id": "4qREHVsEYQEr",
        "colab_type": "code",
        "colab": {
          "base_uri": "https://localhost:8080/",
          "height": 34
        },
        "outputId": "3192f992-70cd-40c7-d450-b784777e0292"
      },
      "source": [
        "print(f\"regression line: y = m * x + b\")"
      ],
      "execution_count": null,
      "outputs": [
        {
          "output_type": "stream",
          "text": [
            "regression line: y = m * x + b\n"
          ],
          "name": "stdout"
        }
      ]
    },
    {
      "cell_type": "code",
      "metadata": {
        "id": "SIOSK4v4aL9H",
        "colab_type": "code",
        "colab": {
          "base_uri": "https://localhost:8080/",
          "height": 34
        },
        "outputId": "48f688b5-0b64-40ce-a826-0474f21306a0"
      },
      "source": [
        "x_prediction = 12 \n",
        "y_prediction = (m * x_prediction + b)\n",
        "print(y_prediction)"
      ],
      "execution_count": null,
      "outputs": [
        {
          "output_type": "stream",
          "text": [
            "4.236301369863016\n"
          ],
          "name": "stdout"
        }
      ]
    },
    {
      "cell_type": "code",
      "metadata": {
        "id": "ONm5lBh-alrs",
        "colab_type": "code",
        "colab": {}
      },
      "source": [
        "regression_line = [(m*x) + b for x in x_values]"
      ],
      "execution_count": null,
      "outputs": []
    },
    {
      "cell_type": "code",
      "metadata": {
        "id": "6puSuRiNa1Xf",
        "colab_type": "code",
        "colab": {
          "base_uri": "https://localhost:8080/",
          "height": 298
        },
        "outputId": "0c11fd07-4f9f-45ec-f55b-5d57fcd7a7b5"
      },
      "source": [
        "import matplotlib.pyplot as plt\n",
        "plt.title(\"Abiral's Plot\")\n",
        "plt.scatter(x_values, y_values, color = \"#26527d\", label = \"data\")\n",
        "plt.scatter(x_prediction, y_prediction, color = \"#4cbd85\", label = \"prediction\")\n",
        "plt.plot(x_values, regression_line, color = \"000000\", label = \"regression_line\")\n",
        "plt.legend(loc=4)"
      ],
      "execution_count": null,
      "outputs": [
        {
          "output_type": "execute_result",
          "data": {
            "text/plain": [
              "<matplotlib.legend.Legend at 0x7f0835a819e8>"
            ]
          },
          "metadata": {
            "tags": []
          },
          "execution_count": 36
        },
        {
          "output_type": "display_data",
          "data": {
            "image/png": "[encoded data removed]",
            "text/plain": [
              "<Figure size 432x288 with 1 Axes>"
            ]
          },
          "metadata": {
            "tags": [],
            "needs_background": "light"
          }
        }
      ]
    }
  ]
}